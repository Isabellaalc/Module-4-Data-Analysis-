{
 "cells": [
  {
   "cell_type": "markdown",
   "metadata": {
    "deletable": false,
    "editable": false,
    "nbgrader": {
     "checksum": "335837a357d252c50c6c38506eabcb06",
     "grade": false,
     "grade_id": "Introduction",
     "locked": true,
     "schema_version": 1,
     "solution": false
    }
   },
   "source": [
    "# Required Codio activity 4.1: Dictionaries\n",
    "---\n",
    "\n",
    "\n",
    "## Overview\n",
    "\n",
    "In this activity, you'll practice using **Python dictionaries** for data storage, retrieval, and basic data processing — including **counting word frequencies** in a text.\n",
    "\n",
    "This activity is designed to strengthen your coding skills and reinforce key concepts you've learned in previous modules. The tasks will gradually increase in complexity to challenge your understanding.\n",
    "\n",
    "Remember to:\n",
    "- Run your code after completing each cell.\n",
    "- Use the output and error messages to guide debugging before submitting.\n",
    "- Also, save your progress by clicking on the save button before submitting.\n",
    "\n",
    "---\n",
    "\n",
    "### Learning Outcome\n",
    "\n",
    "By the end of this activity, you will be able to:\n",
    "- **Create** and **manipulate** dictionaries.\n",
    "- Use dictionaries to perform basic **text analysis**.\n"
   ]
  },
  {
   "cell_type": "markdown",
   "metadata": {
    "deletable": false,
    "editable": false,
    "nbgrader": {
     "checksum": "e66a9b4783ecbbc31e89b0b7a51b660e",
     "grade": false,
     "grade_id": "Index",
     "locked": true,
     "schema_version": 1,
     "solution": false
    }
   },
   "source": [
    "\n",
    "\n",
    "## Index:\n",
    "\n",
    "- [Question 1](#Question-1)\n",
    "- [Question 2](#Question-2)\n",
    "- [Question 3](#Question-3)\n",
    "- [Question 4](#Question-4)\n"
   ]
  },
  {
   "cell_type": "markdown",
   "metadata": {
    "deletable": false,
    "editable": false,
    "nbgrader": {
     "checksum": "90de24ddd11ddf89c96a9780b34f9b72",
     "grade": false,
     "grade_id": "Q1_Float_Mult",
     "locked": true,
     "schema_version": 1,
     "solution": false
    }
   },
   "source": [
    "[Back to top](#Index:) \n",
    "\n",
    "### Question 1\n",
    "\n",
    "You are provided with a dictionary `grades` that contains the names of students as keys and their grades as values.\n",
    "\n",
    "```python\n",
    "grades = {'Alice': 95, 'Bob': 89, 'Charles': 96, 'Derry': 92}\n",
    "```\n",
    "\n",
    "Perform the following tasks:\n",
    "\n",
    "1. Retrieve the grade for **'Derry'** from the dictionary and assign it to the variable `ans1a`.\n",
    "2. Retrieve the grade for **'Bob'** from the dictionary and assign it to the variable `ans1b`.\n",
    "\n",
    "> **Hint:** use the standard dictionary key access method (`dictionary_name['key_name']`) for retrieval.\n"
   ]
  },
  {
   "cell_type": "code",
   "execution_count": 1,
   "metadata": {
    "deletable": false,
    "nbgrader": {
     "checksum": "6f413a63a8848361a9e345bc3cf12686",
     "grade": false,
     "grade_id": "Dict1_Ans",
     "locked": false,
     "schema_version": 1,
     "solution": true
    }
   },
   "outputs": [
    {
     "name": "stdout",
     "output_type": "stream",
     "text": [
      "92\n",
      "89\n"
     ]
    }
   ],
   "source": [
    "ans1a = None\n",
    "ans1b = None\n",
    "\n",
    "grades = {'Alice': 95, 'Bob': 89, 'Charles': 96, 'Derry': 92}\n",
    "\n",
    "# YOUR CODE HERE\n",
    "ans1a = grades['Derry']\n",
    "ans1b = grades['Bob']\n",
    "\n",
    "# Output Check\n",
    "print(ans1a)\n",
    "print(ans1b)"
   ]
  },
  {
   "cell_type": "code",
   "execution_count": null,
   "metadata": {
    "deletable": false,
    "editable": false,
    "nbgrader": {
     "checksum": "db5a41c4bee8e005b0715c9aa09987c1",
     "grade": true,
     "grade_id": "Dict1_Test",
     "locked": true,
     "points": 5,
     "schema_version": 1,
     "solution": false
    }
   },
   "outputs": [],
   "source": []
  },
  {
   "cell_type": "markdown",
   "metadata": {
    "deletable": false,
    "editable": false,
    "nbgrader": {
     "checksum": "e3ecb7b39eeb295987a0aa3dd84a5416",
     "grade": false,
     "grade_id": "Q2_Description",
     "locked": true,
     "schema_version": 1,
     "solution": false
    }
   },
   "source": [
    "[Back to top](#Index:) \n",
    "\n",
    "### Question 2\n",
    "\n",
    "You are working with the `grades` dictionary again.\n",
    "\n",
    "Perform the following tasks:\n",
    "\n",
    "1. Add a new entry to the dictionary with the key `'Edward'` and the value `95`.\n",
    "2. Retrieve the grade for `'Edward'` from the dictionary, **multiply it by 2**, and assign the result to the variable `ans2a`.\n",
    "\n",
    "> **Hint:** Use the dictionary key assignment method (`dictionary_name['key_name'] = value`) to add a new key-value pair."
   ]
  },
  {
   "cell_type": "code",
   "execution_count": 2,
   "metadata": {
    "deletable": false,
    "nbgrader": {
     "checksum": "78e60c615e0dc346f9f7cd55d5183ca4",
     "grade": false,
     "grade_id": "Dict2_Ans",
     "locked": false,
     "schema_version": 1,
     "solution": true
    }
   },
   "outputs": [
    {
     "name": "stdout",
     "output_type": "stream",
     "text": [
      "190\n",
      "{'Alice': 95, 'Bob': 89, 'Charles': 96, 'Derry': 92, 'Edward': 95}\n"
     ]
    }
   ],
   "source": [
    "ans2a = None\n",
    "\n",
    "grades = {'Alice': 95, 'Bob': 89, 'Charles': 96, 'Derry': 92}\n",
    "\n",
    "# YOUR CODE HERE\n",
    "grades['Edward'] = 95\n",
    "ans2a = grades['Edward'] * 2\n",
    "\n",
    "# Output Check\n",
    "print(ans2a)\n",
    "print(grades)"
   ]
  },
  {
   "cell_type": "code",
   "execution_count": null,
   "metadata": {
    "deletable": false,
    "editable": false,
    "nbgrader": {
     "checksum": "ff2f9a9d4bf13390ae6842e25628bfcb",
     "grade": true,
     "grade_id": "Dict2_Test",
     "locked": true,
     "points": 5,
     "schema_version": 1,
     "solution": false
    }
   },
   "outputs": [],
   "source": []
  },
  {
   "cell_type": "markdown",
   "metadata": {
    "deletable": false,
    "editable": false,
    "nbgrader": {
     "checksum": "07c4f03600145503089d5a4a4b0f1215",
     "grade": false,
     "grade_id": "Q3_Description",
     "locked": true,
     "schema_version": 1,
     "solution": false
    }
   },
   "source": [
    "[Back to top](#Index:) \n",
    "\n",
    "\n",
    "### Question 3\n",
    "\n",
    "You are working with the following dictionary:\n",
    "\n",
    "```python\n",
    "grades = {'Alice': 95, 'Bob': 89, 'Charles': 96, 'Derry': 92, 'Edward': 95}\n",
    "```\n",
    "\n",
    "Perform the following tasks:\n",
    "\n",
    "1. **Delete** the key `'Bob'` and its associated value from the dictionary.\n",
    "2. **Iterate** through the updated dictionary (after deleting `'Bob'`) and store all keys in a list called `name_list`.\n",
    "3. **Copy** the contents of `name_list` to another list named `ans3a`.\n",
    "\n",
    "\n",
    "> **Hint:**\n",
    "> To delete a key-value pair from a dictionary, use:\n",
    "```python\n",
    "del dictionary_name['key_name']\n",
    "```"
   ]
  },
  {
   "cell_type": "code",
   "execution_count": 4,
   "metadata": {
    "deletable": false,
    "nbgrader": {
     "checksum": "6037177c1c0da5b99edfa3819809becc",
     "grade": false,
     "grade_id": "Dict3_Ans",
     "locked": false,
     "schema_version": 1,
     "solution": true
    }
   },
   "outputs": [
    {
     "name": "stdout",
     "output_type": "stream",
     "text": [
      "['Alice', 'Charles', 'Derry', 'Edward']\n",
      "{'Alice': 95, 'Charles': 96, 'Derry': 92, 'Edward': 95}\n"
     ]
    }
   ],
   "source": [
    "name_list = []\n",
    "ans3a = []\n",
    "\n",
    "grades = {'Alice': 95, 'Bob': 89, 'Charles': 96, 'Derry': 92, 'Edward': 95}\n",
    "\n",
    "# YOUR CODE HERE\n",
    "del grades['Bob']\n",
    "\n",
    "for key in grades:\n",
    "    name_list.append(key)\n",
    "\n",
    "ans3a = name_list.copy()\n",
    "\n",
    "# Answer check\n",
    "print(ans3a)\n",
    "print(grades)"
   ]
  },
  {
   "cell_type": "code",
   "execution_count": null,
   "metadata": {
    "deletable": false,
    "editable": false,
    "nbgrader": {
     "checksum": "b38c6f8d05780250441e04143c1214de",
     "grade": true,
     "grade_id": "Dict3_Test",
     "locked": true,
     "points": 5,
     "schema_version": 1,
     "solution": false
    }
   },
   "outputs": [],
   "source": []
  },
  {
   "cell_type": "markdown",
   "metadata": {
    "deletable": false,
    "editable": false,
    "nbgrader": {
     "checksum": "2ae00607370b965eaddb20809ce74212",
     "grade": false,
     "grade_id": "Q4_Description",
     "locked": true,
     "schema_version": 1,
     "solution": false
    }
   },
   "source": [
    "###### [Back to top](#Index:) \n",
    "\n",
    "### Question 4\n",
    "\n",
    "You are given the following dictionary:\n",
    "\n",
    "```python\n",
    "grades = {'Alice': 95, 'Charles': 96, 'Derry': 92, 'Edward': 95}\n",
    "```\n",
    "\n",
    "Perform the following tasks:\n",
    "\n",
    "1. **Iterate** through the dictionary using a single loop to access both keys and values.\n",
    "2. **Store** all keys in a list called `student_list`.\n",
    "3. **Store** all associated values in a list called `grade_list`.\n",
    "4. **Copy** `student_list` to `ans4a` and `grade_list` to `ans4b`.\n",
    "\n",
    "\n",
    "> **Hint:**\n",
    "> To iterate over both keys and values of a dictionary, use:\n",
    "```python\n",
    "for key, value in dictionary.items():\n",
    "```"
   ]
  },
  {
   "cell_type": "code",
   "execution_count": 6,
   "metadata": {
    "deletable": false,
    "nbgrader": {
     "checksum": "fc236b7ad4067188164b47096787be1b",
     "grade": false,
     "grade_id": "Dict4_Ans",
     "locked": false,
     "schema_version": 1,
     "solution": true
    }
   },
   "outputs": [
    {
     "name": "stdout",
     "output_type": "stream",
     "text": [
      "['Alice', 'Charles', 'Derry', 'Edward']\n",
      "[95, 96, 92, 95]\n"
     ]
    }
   ],
   "source": [
    "ans4a = []\n",
    "ans4b = []\n",
    "student_list = []\n",
    "grade_list = []\n",
    "\n",
    "grades = {'Alice': 95, 'Charles': 96, 'Derry': 92, 'Edward': 95}\n",
    "\n",
    "# YOUR CODE HERE\n",
    "for key, value in grades.items():\n",
    "    student_list.append(key)\n",
    "    grade_list.append(value)\n",
    "    \n",
    "ans4a = student_list.copy()\n",
    "ans4b = grade_list.copy()\n",
    "\n",
    "# Answer check\n",
    "print(ans4a)\n",
    "print(ans4b)"
   ]
  },
  {
   "cell_type": "code",
   "execution_count": null,
   "metadata": {
    "deletable": false,
    "editable": false,
    "nbgrader": {
     "checksum": "0e75576aaa69342483752ee5262d98db",
     "grade": true,
     "grade_id": "Dict4_Test",
     "locked": true,
     "points": 10,
     "schema_version": 1,
     "solution": false
    }
   },
   "outputs": [],
   "source": []
  }
 ],
 "metadata": {
  "kernelspec": {
   "display_name": "Python [conda env:base] *",
   "language": "python",
   "name": "conda-base-py"
  },
  "language_info": {
   "codemirror_mode": {
    "name": "ipython",
    "version": 3
   },
   "file_extension": ".py",
   "mimetype": "text/x-python",
   "name": "python",
   "nbconvert_exporter": "python",
   "pygments_lexer": "ipython3",
   "version": "3.13.5"
  }
 },
 "nbformat": 4,
 "nbformat_minor": 4
}
