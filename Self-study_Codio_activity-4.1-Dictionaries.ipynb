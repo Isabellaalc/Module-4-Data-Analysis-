{
 "cells": [
  {
   "cell_type": "markdown",
   "metadata": {
    "deletable": false,
    "editable": false,
    "nbgrader": {
     "checksum": "370bb2c3241b35afdf12aff88e821f2a",
     "grade": false,
     "grade_id": "Introduction",
     "locked": true,
     "schema_version": 1,
     "solution": false
    }
   },
   "source": [
    "# Self-study Codio activity: Dictionaries\n",
    "---\n",
    "\n",
    "## Overview\n",
    "\n",
    "In this activity, you'll practice using **Python dictionaries** for data storage and retrieval.\n",
    "\n",
    "The activity is designed to help you:\n",
    "- Strengthen your Python programming skills.\n",
    "- Review and apply key concepts from the module.\n",
    "\n",
    "As you work through the tasks, you’ll notice the **difficulty gradually increases**. Each task is an opportunity to build your confidence and deepen your understanding.\n",
    "\n",
    "> **Tip**: Run your code in each cell before submitting. This helps catch and fix errors early!\n",
    "> Also, make sure to save your progress by clicking on the save button.\n",
    "\n",
    "### Learning Outcome\n",
    "- Create and use Python dictionaries effectively for storing and retrieving data.\n"
   ]
  },
  {
   "cell_type": "markdown",
   "metadata": {
    "deletable": false,
    "editable": false,
    "nbgrader": {
     "checksum": "e66a9b4783ecbbc31e89b0b7a51b660e",
     "grade": false,
     "grade_id": "Index",
     "locked": true,
     "schema_version": 1,
     "solution": false
    }
   },
   "source": [
    "\n",
    "\n",
    "## Index:\n",
    "\n",
    "- [Question 1](#Question-1)\n",
    "- [Question 2](#Question-2)\n",
    "- [Question 3](#Question-3)\n",
    "- [Question 4](#Question-4)\n"
   ]
  },
  {
   "cell_type": "markdown",
   "metadata": {
    "deletable": false,
    "editable": false,
    "nbgrader": {
     "checksum": "e1bb9b370e52c45a1bca24869e6f07b4",
     "grade": false,
     "grade_id": "Q1_Float_Mult",
     "locked": true,
     "schema_version": 1,
     "solution": false
    }
   },
   "source": [
    "[Back to top](#Index:) \n",
    "\n",
    "### Question 1\n",
    "\n",
    "You are given a dictionary named `grades` that stores student names as keys and their corresponding grades as values.\n",
    "\n",
    "```python\n",
    "grades = {'Ali': 90, 'Bo': 82, 'Christie': 88, 'Dali': 85}\n",
    "```\n",
    "\n",
    "Perform the following:\n",
    "\n",
    "- Retrieve the grade for `'Dali'` using square bracket notation and assign it to the variable `ans1a`.\n",
    "- Retrieve the grade for `'Bo'` in the same way and assign it to the variable `ans1b`.\n",
    "\n",
    "> **Hint:** Use the dictionary key lookup method: `dictionary[key]`\n",
    "\n"
   ]
  },
  {
   "cell_type": "code",
   "execution_count": 2,
   "metadata": {
    "deletable": false,
    "nbgrader": {
     "checksum": "48413bf5f429d8ed42afdcca573a58f5",
     "grade": false,
     "grade_id": "Dict1_Ans",
     "locked": false,
     "schema_version": 1,
     "solution": true
    }
   },
   "outputs": [
    {
     "name": "stdout",
     "output_type": "stream",
     "text": [
      "85\n",
      "82\n"
     ]
    }
   ],
   "source": [
    "grades = {'Ali': 90, 'Bo': 82, 'Christie': 88, 'Dali': 85}\n",
    "\n",
    "ans1a = grades['Dali']\n",
    "ans1b = grades['Bo']\n",
    "\n",
    "# Output Check\n",
    "print(ans1a)\n",
    "print(ans1b)"
   ]
  },
  {
   "cell_type": "code",
   "execution_count": null,
   "metadata": {
    "deletable": false,
    "editable": false,
    "nbgrader": {
     "checksum": "2a2a39c6329fdd6c9959385f7bfea999",
     "grade": true,
     "grade_id": "Dict1_Test",
     "locked": true,
     "points": 1,
     "schema_version": 1,
     "solution": false
    }
   },
   "outputs": [],
   "source": []
  },
  {
   "cell_type": "markdown",
   "metadata": {
    "deletable": false,
    "editable": false,
    "nbgrader": {
     "checksum": "a14c13bce48ab7c516a0872117aafcf6",
     "grade": false,
     "grade_id": "Q2_Description",
     "locked": true,
     "schema_version": 1,
     "solution": false
    }
   },
   "source": [
    "[Back to top](#Index:) \n",
    "\n",
    "\n",
    "### Question 2\n",
    "\n",
    "You are given a dictionary `grades` with student names as keys and their grades as values.\n",
    "\n",
    "```python\n",
    "grades = {'Ali': 90, 'Bo': 82, 'Christie': 88, 'Dali': 85}\n",
    "```\n",
    "\n",
    "Perform the following steps:\n",
    "\n",
    "1. **Add a new key-value pair** to the dictionary: `'Elle'` with a grade of `95`, using square bracket notation.\n",
    "2. Retrieve the grade for `'Elle'` from the dictionary, **multiply it by 2**, and assign the result to the variable `ans2a`.\n",
    "\n",
    "> **Hint:** Use `grades['Elle'] = 95` to add a new entry, and `grades['Elle']` to retrieve the value."
   ]
  },
  {
   "cell_type": "code",
   "execution_count": 6,
   "metadata": {
    "deletable": false,
    "nbgrader": {
     "checksum": "0d990991b7cad024c8cf3db3aed2b548",
     "grade": false,
     "grade_id": "Dict2_Ans",
     "locked": false,
     "schema_version": 1,
     "solution": true
    }
   },
   "outputs": [
    {
     "name": "stdout",
     "output_type": "stream",
     "text": [
      "190\n",
      "{'Ali': 90, 'Bo': 82, 'Christie': 88, 'Dali': 85, 'Elle': 95}\n"
     ]
    }
   ],
   "source": [
    "grades = {'Ali': 90, 'Bo': 82, 'Christie': 88, 'Dali': 85}\n",
    "\n",
    "grades['Elle'] = 95\n",
    "\n",
    "ans2a = grades['Elle'] * 2\n",
    "\n",
    "# Output Check\n",
    "print(ans2a)\n",
    "print(grades)"
   ]
  },
  {
   "cell_type": "code",
   "execution_count": null,
   "metadata": {
    "deletable": false,
    "editable": false,
    "nbgrader": {
     "checksum": "488a412aabad06eba02382f4db178b8a",
     "grade": true,
     "grade_id": "Dict2_Test",
     "locked": true,
     "points": 1,
     "schema_version": 1,
     "solution": false
    }
   },
   "outputs": [],
   "source": []
  },
  {
   "cell_type": "markdown",
   "metadata": {
    "deletable": false,
    "editable": false,
    "nbgrader": {
     "checksum": "fbdd0f19615570776e8b7eba04f0c5e0",
     "grade": false,
     "grade_id": "Q3_Description",
     "locked": true,
     "schema_version": 1,
     "solution": false
    }
   },
   "source": [
    "[Back to top](#Index:) \n",
    "\n",
    "\n",
    "### Question 3\n",
    "\n",
    "You are given a dictionary `grades` with student names and their grades:\n",
    "\n",
    "```python\n",
    "grades = {'Ali': 90, 'Bo': 82, 'Christie': 88, 'Dali': 85, 'Elle': 95}\n",
    "```\n",
    "\n",
    "Perform the following steps:\n",
    "\n",
    "1. **Delete** the key `'Bo'` and its associated value from the `grades` dictionary using the `del` statement.\n",
    "2. **Iterate** over the keys of the updated dictionary and store the keys in a list called `name_list`.\n",
    "3. **Copy** the contents of `name_list` into a new list called `ans3a`.\n",
    "\n",
    "> **Hint:** You can delete a dictionary entry using:\n",
    "```python\n",
    "    del dictionary_name['key']\n",
    "```"
   ]
  },
  {
   "cell_type": "code",
   "execution_count": 11,
   "metadata": {
    "deletable": false,
    "nbgrader": {
     "checksum": "0493cb648c3352f1de68c0ad9108e750",
     "grade": false,
     "grade_id": "Dict3_Ans",
     "locked": false,
     "schema_version": 1,
     "solution": true
    }
   },
   "outputs": [
    {
     "name": "stdout",
     "output_type": "stream",
     "text": [
      "['Ali', 'Christie', 'Dali', 'Elle']\n",
      "{'Ali': 90, 'Christie': 88, 'Dali': 85, 'Elle': 95}\n"
     ]
    }
   ],
   "source": [
    "\n",
    "name_list = []\n",
    "ans3a = []\n",
    "\n",
    "grades = {'Ali': 90, 'Bo': 82, 'Christie': 88, 'Dali': 85, 'Elle': 95}\n",
    "\n",
    "del grades['Bo']\n",
    "\n",
    "for key in grades:\n",
    "    name_list.append(key)\n",
    "    \n",
    "ans3a = name_list.copy() \n",
    "\n",
    "# Answer check\n",
    "print(ans3a)\n",
    "print(grades)\n"
   ]
  },
  {
   "cell_type": "code",
   "execution_count": null,
   "metadata": {
    "deletable": false,
    "editable": false,
    "nbgrader": {
     "checksum": "7409adc9144f0ffa0213967dd1691059",
     "grade": true,
     "grade_id": "Dict3_Test",
     "locked": true,
     "points": 1,
     "schema_version": 1,
     "solution": false
    }
   },
   "outputs": [],
   "source": []
  },
  {
   "cell_type": "markdown",
   "metadata": {
    "deletable": false,
    "editable": false,
    "nbgrader": {
     "checksum": "4b6409af5cfe27e7e7bf43dff7dd29e6",
     "grade": false,
     "grade_id": "Q4_Description",
     "locked": true,
     "schema_version": 1,
     "solution": false
    }
   },
   "source": [
    "###### [Back to top](#Index:) \n",
    "\n",
    "### Question 4\n",
    "\n",
    "You are given a dictionary `grades` that stores student names as keys and their grades as values:\n",
    "\n",
    "```python\n",
    "grades = {'Ali': 90, 'Christie': 88, 'Dali': 85, 'Elle': 95}\n",
    "```\n",
    "\n",
    "\n",
    "Perform the following steps:\n",
    "\n",
    "1. **Iterate** through the dictionary using a single `for` loop that retrieves both keys and values.\n",
    "2. **Store** the keys in a list called `student_list`.\n",
    "3. **Store** the values in a list called `grade_list`.\n",
    "4. Copy the contents of `student_list` into a new list called `ans4a`.\n",
    "5. Copy the contents of `grade_list` into a new list called `ans4b`.\n",
    "\n",
    "> **Hints:**\n",
    "> - Use the `grades.items()` method to loop over both keys and values of a dictionary.\n",
    "> - Use `.copy()` to create an exact copy of a list.\n",
    "\n"
   ]
  },
  {
   "cell_type": "code",
   "execution_count": 13,
   "metadata": {
    "deletable": false,
    "nbgrader": {
     "checksum": "fd0946dab1355df145c5748dfb69ebe0",
     "grade": false,
     "grade_id": "Dict4_Ans",
     "locked": false,
     "schema_version": 1,
     "solution": true
    }
   },
   "outputs": [
    {
     "name": "stdout",
     "output_type": "stream",
     "text": [
      "['Ali', 'Christie', 'Dali', 'Elle']\n",
      "[90, 88, 85, 95]\n"
     ]
    }
   ],
   "source": [
    "ans4a = []\n",
    "ans4b = []\n",
    "student_list = []\n",
    "grade_list = []\n",
    "\n",
    "grades = {'Ali': 90, 'Christie': 88, 'Dali': 85, 'Elle': 95}\n",
    "\n",
    "for key,value in grades.items():\n",
    "    student_list.append(key)\n",
    "    grade_list.append(value)\n",
    "\n",
    "ans4a = student_list.copy()\n",
    "ans4b = grade_list.copy()\n",
    "\n",
    "# Answer check\n",
    "print(ans4a)\n",
    "print(ans4b)"
   ]
  },
  {
   "cell_type": "code",
   "execution_count": null,
   "metadata": {
    "deletable": false,
    "editable": false,
    "nbgrader": {
     "checksum": "6a6ce42f0396963d27f12f790d7dc13c",
     "grade": true,
     "grade_id": "Dict4_Test",
     "locked": true,
     "points": 1,
     "schema_version": 1,
     "solution": false
    }
   },
   "outputs": [],
   "source": []
  }
 ],
 "metadata": {
  "kernelspec": {
   "display_name": "Python [conda env:base] *",
   "language": "python",
   "name": "conda-base-py"
  },
  "language_info": {
   "codemirror_mode": {
    "name": "ipython",
    "version": 3
   },
   "file_extension": ".py",
   "mimetype": "text/x-python",
   "name": "python",
   "nbconvert_exporter": "python",
   "pygments_lexer": "ipython3",
   "version": "3.13.5"
  }
 },
 "nbformat": 4,
 "nbformat_minor": 4
}
